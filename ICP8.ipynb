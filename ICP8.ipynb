{
  "nbformat": 4,
  "nbformat_minor": 0,
  "metadata": {
    "colab": {
      "name": "ICP8.ipynb",
      "provenance": [],
      "mount_file_id": "1O8sNHccgbxUQzLpHPbi0g9q84LCjamAj",
      "authorship_tag": "ABX9TyMtkD4K1ZskRoHe9IGl3KDQ",
      "include_colab_link": true
    },
    "kernelspec": {
      "name": "python3",
      "display_name": "Python 3"
    },
    "language_info": {
      "name": "python"
    }
  },
  "cells": [
    {
      "cell_type": "markdown",
      "metadata": {
        "id": "view-in-github",
        "colab_type": "text"
      },
      "source": [
        "<a href=\"https://colab.research.google.com/github/Nithin46/ICP8/blob/main/ICP8.ipynb\" target=\"_parent\"><img src=\"https://colab.research.google.com/assets/colab-badge.svg\" alt=\"Open In Colab\"/></a>"
      ]
    },
    {
      "cell_type": "code",
      "metadata": {
        "colab": {
          "base_uri": "https://localhost:8080/"
        },
        "id": "lINQo-vP-H-6",
        "outputId": "3c9e83ce-ab4c-493c-b22e-9afc4a5f7f7c"
      },
      "source": [
        "!pip install textacy\n",
        "import spacy\n",
        "import textacy  # Importing 'textacy' library to perform the triplet operation"
      ],
      "execution_count": 11,
      "outputs": [
        {
          "output_type": "stream",
          "text": [
            "Requirement already satisfied: textacy in /usr/local/lib/python3.7/dist-packages (0.10.1)\n",
            "Requirement already satisfied: cachetools>=2.0.1 in /usr/local/lib/python3.7/dist-packages (from textacy) (4.2.1)\n",
            "Requirement already satisfied: srsly>=0.0.5 in /usr/local/lib/python3.7/dist-packages (from textacy) (1.0.5)\n",
            "Requirement already satisfied: spacy<3.0.0,>=2.2.0 in /usr/local/lib/python3.7/dist-packages (from textacy) (2.2.4)\n",
            "Requirement already satisfied: networkx>=2.0 in /usr/local/lib/python3.7/dist-packages (from textacy) (2.5)\n",
            "Requirement already satisfied: cytoolz>=0.8.0 in /usr/local/lib/python3.7/dist-packages (from textacy) (0.11.0)\n",
            "Requirement already satisfied: scikit-learn<0.24.0,>=0.19.0 in /usr/local/lib/python3.7/dist-packages (from textacy) (0.22.2.post1)\n",
            "Requirement already satisfied: jellyfish>=0.7.0 in /usr/local/lib/python3.7/dist-packages (from textacy) (0.8.2)\n",
            "Requirement already satisfied: scipy>=0.17.0 in /usr/local/lib/python3.7/dist-packages (from textacy) (1.4.1)\n",
            "Requirement already satisfied: numpy>=1.17.0 in /usr/local/lib/python3.7/dist-packages (from textacy) (1.19.5)\n",
            "Requirement already satisfied: pyemd>=0.5.0 in /usr/local/lib/python3.7/dist-packages (from textacy) (0.5.1)\n",
            "Requirement already satisfied: pyphen>=0.9.4 in /usr/local/lib/python3.7/dist-packages (from textacy) (0.10.0)\n",
            "Requirement already satisfied: tqdm>=4.19.6 in /usr/local/lib/python3.7/dist-packages (from textacy) (4.41.1)\n",
            "Requirement already satisfied: requests>=2.10.0 in /usr/local/lib/python3.7/dist-packages (from textacy) (2.23.0)\n",
            "Requirement already satisfied: joblib>=0.13.0 in /usr/local/lib/python3.7/dist-packages (from textacy) (1.0.1)\n",
            "Requirement already satisfied: murmurhash<1.1.0,>=0.28.0 in /usr/local/lib/python3.7/dist-packages (from spacy<3.0.0,>=2.2.0->textacy) (1.0.5)\n",
            "Requirement already satisfied: plac<1.2.0,>=0.9.6 in /usr/local/lib/python3.7/dist-packages (from spacy<3.0.0,>=2.2.0->textacy) (1.1.3)\n",
            "Requirement already satisfied: catalogue<1.1.0,>=0.0.7 in /usr/local/lib/python3.7/dist-packages (from spacy<3.0.0,>=2.2.0->textacy) (1.0.0)\n",
            "Requirement already satisfied: thinc==7.4.0 in /usr/local/lib/python3.7/dist-packages (from spacy<3.0.0,>=2.2.0->textacy) (7.4.0)\n",
            "Requirement already satisfied: blis<0.5.0,>=0.4.0 in /usr/local/lib/python3.7/dist-packages (from spacy<3.0.0,>=2.2.0->textacy) (0.4.1)\n",
            "Requirement already satisfied: wasabi<1.1.0,>=0.4.0 in /usr/local/lib/python3.7/dist-packages (from spacy<3.0.0,>=2.2.0->textacy) (0.8.2)\n",
            "Requirement already satisfied: cymem<2.1.0,>=2.0.2 in /usr/local/lib/python3.7/dist-packages (from spacy<3.0.0,>=2.2.0->textacy) (2.0.5)\n",
            "Requirement already satisfied: setuptools in /usr/local/lib/python3.7/dist-packages (from spacy<3.0.0,>=2.2.0->textacy) (54.1.2)\n",
            "Requirement already satisfied: preshed<3.1.0,>=3.0.2 in /usr/local/lib/python3.7/dist-packages (from spacy<3.0.0,>=2.2.0->textacy) (3.0.5)\n",
            "Requirement already satisfied: decorator>=4.3.0 in /usr/local/lib/python3.7/dist-packages (from networkx>=2.0->textacy) (4.4.2)\n",
            "Requirement already satisfied: toolz>=0.8.0 in /usr/local/lib/python3.7/dist-packages (from cytoolz>=0.8.0->textacy) (0.11.1)\n",
            "Requirement already satisfied: urllib3!=1.25.0,!=1.25.1,<1.26,>=1.21.1 in /usr/local/lib/python3.7/dist-packages (from requests>=2.10.0->textacy) (1.24.3)\n",
            "Requirement already satisfied: certifi>=2017.4.17 in /usr/local/lib/python3.7/dist-packages (from requests>=2.10.0->textacy) (2020.12.5)\n",
            "Requirement already satisfied: chardet<4,>=3.0.2 in /usr/local/lib/python3.7/dist-packages (from requests>=2.10.0->textacy) (3.0.4)\n",
            "Requirement already satisfied: idna<3,>=2.5 in /usr/local/lib/python3.7/dist-packages (from requests>=2.10.0->textacy) (2.10)\n",
            "Requirement already satisfied: importlib-metadata>=0.20; python_version < \"3.8\" in /usr/local/lib/python3.7/dist-packages (from catalogue<1.1.0,>=0.0.7->spacy<3.0.0,>=2.2.0->textacy) (3.7.2)\n",
            "Requirement already satisfied: typing-extensions>=3.6.4; python_version < \"3.8\" in /usr/local/lib/python3.7/dist-packages (from importlib-metadata>=0.20; python_version < \"3.8\"->catalogue<1.1.0,>=0.0.7->spacy<3.0.0,>=2.2.0->textacy) (3.7.4.3)\n",
            "Requirement already satisfied: zipp>=0.5 in /usr/local/lib/python3.7/dist-packages (from importlib-metadata>=0.20; python_version < \"3.8\"->catalogue<1.1.0,>=0.0.7->spacy<3.0.0,>=2.2.0->textacy) (3.4.1)\n"
          ],
          "name": "stdout"
        }
      ]
    },
    {
      "cell_type": "code",
      "metadata": {
        "colab": {
          "base_uri": "https://localhost:8080/"
        },
        "id": "8p3IsiSn_VOM",
        "outputId": "5021c776-b8f6-477c-c792-06c5a346f521"
      },
      "source": [
        "File1 = open ('/content/drive/MyDrive/Colab Notebooks/Family 1.txt', 'r')\n",
        "doc1 = File1.read()\n",
        "File2 = open ('/content/drive/MyDrive/Colab Notebooks/Family 2.txt', 'r')\n",
        "doc2 = File2.read()\n",
        "File3 = open ('/content/drive/MyDrive/Colab Notebooks/Family 3.txt', 'r')\n",
        "doc3 = File3.read()\n",
        "\n",
        "doc = [doc1, doc2, doc3]\n",
        "print(doc)"
      ],
      "execution_count": 27,
      "outputs": [
        {
          "output_type": "stream",
          "text": [
            "['In human society, family is a group of people related either by consanguinity (by recognized birth) or affinity (by marriage or other relationship). The purpose of families is to maintain the well-being of its members and of society. Ideally, families would offer predictability, structure, and safety as members mature and participate in the community. ', 'From the point of view of the parent(s), the family is a \"family of procreation\", the goal of which is to produce, enculturate and socialize children. However, producing children is not the only function of the family; in societies with a sexual division of labor, marriage, and the resulting relationship between two people, it is necessary for the formation of an economically productive household.\\n', \"Members of the immediate family may include spouses, parents, grandparents, brothers, sisters, sons, and daughters. Members of the extended family may include aunts, uncles, cousins. Sometimes these are also considered members of the immediate family, depending on an individual's specific relationship with them, and the legal definition of immediate family varies.\"]\n"
          ],
          "name": "stdout"
        }
      ]
    },
    {
      "cell_type": "code",
      "metadata": {
        "colab": {
          "base_uri": "https://localhost:8080/"
        },
        "id": "g6YGOT5BH7yi",
        "outputId": "a7039b7f-e9b6-4d05-f2ba-b7fcc7bcc8c5"
      },
      "source": [
        "def listToString(s):\n",
        "  str1 = \" \"\n",
        "  return (str1.join(s))\n",
        "\n",
        "Data = listToString(doc)\n",
        "print(Data)"
      ],
      "execution_count": 28,
      "outputs": [
        {
          "output_type": "stream",
          "text": [
            "In human society, family is a group of people related either by consanguinity (by recognized birth) or affinity (by marriage or other relationship). The purpose of families is to maintain the well-being of its members and of society. Ideally, families would offer predictability, structure, and safety as members mature and participate in the community.  From the point of view of the parent(s), the family is a \"family of procreation\", the goal of which is to produce, enculturate and socialize children. However, producing children is not the only function of the family; in societies with a sexual division of labor, marriage, and the resulting relationship between two people, it is necessary for the formation of an economically productive household.\n",
            " Members of the immediate family may include spouses, parents, grandparents, brothers, sisters, sons, and daughters. Members of the extended family may include aunts, uncles, cousins. Sometimes these are also considered members of the immediate family, depending on an individual's specific relationship with them, and the legal definition of immediate family varies.\n"
          ],
          "name": "stdout"
        }
      ]
    },
    {
      "cell_type": "code",
      "metadata": {
        "colab": {
          "base_uri": "https://localhost:8080/"
        },
        "id": "cXPtYEPRIk6v",
        "outputId": "5514d055-0e0f-4d91-c17b-2f8b37cbf6d8"
      },
      "source": [
        "for content in Data.split(\".\"):  # First, I'm splitting the data into sentences using split function\n",
        "  sentence = nlp (content)\n",
        "  #print('\\n')\n",
        "  #print(sentence)\n",
        "  triplets = textacy.extract.subject_verb_object_triples(sentence) # Passing the sentences to the textacy function and storing in triplets variable.\n",
        "  for i in triplets:\n",
        "    triplets_list = []   # creating final list to print the final triplet\n",
        "    tuples_add = list(i)\n",
        "    triplets_list.append(tuples_add) # Appending the extracted words to the final list\n",
        "    print(triplets_list)"
      ],
      "execution_count": 29,
      "outputs": [
        {
          "output_type": "stream",
          "text": [
            "[[families, would offer, predictability]]\n",
            "[[families, would offer, structure]]\n",
            "[[families, would offer, safety]]\n",
            "[[Members, may include, spouses]]\n",
            "[[Members, may include, parents]]\n",
            "[[Members, may include, grandparents]]\n",
            "[[Members, may include, brothers]]\n",
            "[[Members, may include, sisters]]\n",
            "[[Members, may include, sons]]\n",
            "[[Members, may include, daughters]]\n",
            "[[Members, may include, aunts]]\n",
            "[[Members, may include, uncles]]\n",
            "[[Members, may include, cousins]]\n",
            "[[these, considered, members]]\n"
          ],
          "name": "stdout"
        }
      ]
    }
  ]
}